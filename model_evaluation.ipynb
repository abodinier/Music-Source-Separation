{
 "cells": [
  {
   "cell_type": "markdown",
   "metadata": {},
   "source": [
    "# 1.Imports"
   ]
  },
  {
   "cell_type": "code",
   "execution_count": 17,
   "metadata": {},
   "outputs": [],
   "source": [
    "import re\n",
    "import yaml\n",
    "import torch\n",
    "import librosa\n",
    "import numpy as np\n",
    "import pandas as pd\n",
    "import seaborn as sns\n",
    "from pathlib import Path\n",
    "from scipy.io import wavfile\n",
    "import matplotlib.pyplot as plt\n",
    "\n",
    "from asteroid.models import ConvTasNet\n",
    "from asteroid.data import MUSDB18Dataset"
   ]
  },
  {
   "cell_type": "code",
   "execution_count": 29,
   "metadata": {},
   "outputs": [],
   "source": [
    "DATA_DIR = Path(\"musdb_data\")\n",
    "\n",
    "TEST_SONG = DATA_DIR/\"test/Al James - Schoolboy Facination.stem.mp4\"\n",
    "\n",
    "TRAINING_DIR = Path('weights/training_20220304-172608')\n",
    "cfg_path = TRAINING_DIR/\"cfg.yaml\"\n",
    "history_path = TRAINING_DIR/\"history.csv\"\n",
    "best_model_path = TRAINING_DIR/\"model.pth\"\n",
    "\n",
    "try:\n",
    "    last_model_path = sorted(list(TRAINING_DIR.glob(\"model_epoch*\")), key=lambda x: int(\"\".join(re.findall(r\"\\d\", str(x)))))[-1]\n",
    "except:\n",
    "    last_model_path = None\n",
    "\n",
    "with open(str(cfg_path), 'r') as file:\n",
    "    CFG = yaml.load(file, Loader=yaml.FullLoader)\n",
    "\n",
    "assert cfg_path.exists() and history_path.exists() and best_model_path.exists() and cfg_path.exists()"
   ]
  },
  {
   "cell_type": "markdown",
   "metadata": {},
   "source": [
    "## Hyper parameters:"
   ]
  },
  {
   "cell_type": "code",
   "execution_count": 30,
   "metadata": {},
   "outputs": [
    {
     "name": "stdout",
     "output_type": "stream",
     "text": [
      ">>> SAMPLE_RATE -> 44100\n",
      ">>> SIZE -> -1\n",
      ">>> LEARNING_RATE -> 0.001\n",
      ">>> N_EPOCHS -> 10\n",
      ">>> BATCH_SIZE -> 64\n",
      ">>> SEGMENT_SIZE -> 1\n",
      ">>> RANDOM_TRACK_MIX -> False\n",
      ">>> TARGETS -> ['drums', 'bass', 'other', 'vocals']\n",
      ">>> N_BLOCKS -> 8\n",
      ">>> N_REPEATS -> 3\n",
      ">>> BN_CHAN -> 128\n",
      ">>> HID_CHAN -> 512\n",
      ">>> SKIP_CHAN -> 128\n",
      ">>> CONV_KERNEL_SIZE -> 3\n",
      ">>> KERNEL_SIZE -> 16\n",
      ">>> N_FILTERS -> 512\n",
      ">>> STRIDE -> 8\n",
      ">>> LOSS -> pairwise_mse\n",
      ">>> STORE_GRADIENT_NORM -> True\n",
      ">>> VERBOSE -> 1\n"
     ]
    }
   ],
   "source": [
    "for key, value in CFG.items():\n",
    "    print(f\">>> {key.upper()} -> {value}\")"
   ]
  },
  {
   "cell_type": "markdown",
   "metadata": {},
   "source": [
    "# 2. Learning Curves"
   ]
  },
  {
   "cell_type": "code",
   "execution_count": 31,
   "metadata": {},
   "outputs": [],
   "source": [
    "df = pd.read_csv(history_path)\n",
    "epochs = df.index.values\n",
    "train_loss = df.train_loss\n",
    "val_loss = df.val_loss"
   ]
  },
  {
   "cell_type": "code",
   "execution_count": 32,
   "metadata": {},
   "outputs": [
    {
     "data": {
      "image/png": "[encoded data removed]",
      "text/plain": [
       "<Figure size 720x504 with 1 Axes>"
      ]
     },
     "metadata": {},
     "output_type": "display_data"
    }
   ],
   "source": [
    "plt.figure(figsize=(10, 7))\n",
    "plt.plot(epochs, train_loss, label='train loss')\n",
    "plt.plot(epochs, val_loss, label='val loss')\n",
    "plt.xlabel(\"Epochs\")\n",
    "plt.ylabel(\"Loss\")\n",
    "plt.legend()\n",
    "plt.plot();"
   ]
  },
  {
   "cell_type": "markdown",
   "metadata": {},
   "source": [
    "## Observations :\n",
    "- The model does not learn ! Instability ?\n",
    "  - Solutions ?:\n",
    "    - Reduce learning rate\n",
    "    - Increase batch size\n",
    "    - Store the learning rate at each epoch\n",
    "    - Store other metrics\n",
    "    - Store gradients norms\n",
    "\n",
    "<br/>\n",
    "\n",
    "- Maybe use smaller network ?"
   ]
  },
  {
   "cell_type": "markdown",
   "metadata": {},
   "source": [
    "# 3. Load model"
   ]
  },
  {
   "cell_type": "code",
   "execution_count": 33,
   "metadata": {},
   "outputs": [],
   "source": [
    "SAMPLE_RATE = CFG[\"sample_rate\"]\n",
    "TARGETS = CFG[\"targets\"]\n",
    "N_SRC = len(TARGETS)\n",
    "N_BLOCKS = CFG[\"n_blocks\"]\n",
    "N_REPEATS = CFG[\"n_repeats\"]\n",
    "BN_CHAN = CFG[\"bn_chan\"]\n",
    "HID_CHAN = CFG[\"hid_chan\"]\n",
    "SKIP_CHAN = CFG[\"skip_chan\"]\n",
    "CONV_KERNEL_SIZE = CFG[\"conv_kernel_size\"]\n",
    "KERNEL_SIZE = CFG[\"kernel_size\"]\n",
    "N_FILTERS = CFG[\"n_filters\"]\n",
    "STRIDE = CFG[\"stride\"]"
   ]
  },
  {
   "cell_type": "code",
   "execution_count": 34,
   "metadata": {},
   "outputs": [
    {
     "data": {
      "text/plain": [
       "['drums', 'bass', 'other', 'vocals']"
      ]
     },
     "execution_count": 34,
     "metadata": {},
     "output_type": "execute_result"
    }
   ],
   "source": [
    "TARGETS"
   ]
  },
  {
   "cell_type": "markdown",
   "metadata": {},
   "source": [
    "# 4. Separation test"
   ]
  },
  {
   "cell_type": "code",
   "execution_count": 11,
   "metadata": {},
   "outputs": [
    {
     "name": "stderr",
     "output_type": "stream",
     "text": [
      "/Users/alexandre/opt/anaconda3/envs/IA321_env/lib/python3.9/site-packages/librosa/core/audio.py:165: UserWarning: PySoundFile failed. Trying audioread instead.\n",
      "  warnings.warn(\"PySoundFile failed. Trying audioread instead.\")\n"
     ]
    }
   ],
   "source": [
    "sound, sr = librosa.load(TEST_SONG.__str__(), sr=SAMPLE_RATE)"
   ]
  },
  {
   "cell_type": "code",
   "execution_count": 12,
   "metadata": {},
   "outputs": [],
   "source": [
    "sound = torch.tensor(sound[:10 * SAMPLE_RATE])"
   ]
  },
  {
   "cell_type": "code",
   "execution_count": 13,
   "metadata": {},
   "outputs": [],
   "source": [
    "pred = model(sound)"
   ]
  },
  {
   "cell_type": "code",
   "execution_count": 14,
   "metadata": {},
   "outputs": [
    {
     "data": {
      "text/plain": [
       "torch.Size([4, 441000])"
      ]
     },
     "execution_count": 14,
     "metadata": {},
     "output_type": "execute_result"
    }
   ],
   "source": [
    "pred.shape"
   ]
  },
  {
   "cell_type": "code",
   "execution_count": 16,
   "metadata": {},
   "outputs": [],
   "source": [
    "for i, name in enumerate(TARGETS):\n",
    "    wavfile.write(f\"./{name}.wav\", SAMPLE_RATE, pred[i].detach().numpy())"
   ]
  }
 ],
 "metadata": {
  "interpreter": {
   "hash": "8ee98f8cc5c61c7bb85862890f9fa26c929bedb663baf44f10e1854389fd85ca"
  },
  "kernelspec": {
   "display_name": "Python 3.9.7",
   "language": "python",
   "name": "python3"
  },
  "language_info": {
   "codemirror_mode": {
    "name": "ipython",
    "version": 3
   },
   "file_extension": ".py",
   "mimetype": "text/x-python",
   "name": "python",
   "nbconvert_exporter": "python",
   "pygments_lexer": "ipython3",
   "version": "3.9.7"
  },
  "orig_nbformat": 4
 },
 "nbformat": 4,
 "nbformat_minor": 2
}
