{
 "cells": [
  {
   "cell_type": "code",
   "execution_count": 1,
   "metadata": {},
   "outputs": [],
   "source": [
    "import re\n",
    "import sys\n",
    "import yaml\n",
    "import torch\n",
    "import librosa\n",
    "import museval\n",
    "import numpy as np\n",
    "import pandas as pd\n",
    "import seaborn as sns\n",
    "from pathlib import Path\n",
    "from scipy.io import wavfile\n",
    "import matplotlib.pyplot as plt\n",
    "from torch.utils.data import DataLoader\n",
    "\n",
    "sys.path.append(\"../\")\n",
    "from kaituoxu.conv_tasnet import ConvTasNet\n",
    "from asteroid.data import MUSDB18Dataset"
   ]
  },
  {
   "cell_type": "code",
   "execution_count": 2,
   "metadata": {},
   "outputs": [],
   "source": [
    "DATA_DIR = Path(\"../../../data/musdb18\")\n",
    "\n",
    "assert DATA_DIR.is_dir()\n",
    "\n",
    "TRAINING_DIR = Path(\"../experiment_results/exp-12/training_20220310-104340\")\n",
    "\n",
    "assert TRAINING_DIR.is_dir()\n",
    "\n",
    "cfg_path = next(TRAINING_DIR.glob('*.yaml'))\n",
    "history_path = TRAINING_DIR/\"history.csv\"\n",
    "\n",
    "best_model_path = TRAINING_DIR/'model.pth'\n",
    "model_paths = sorted(list(TRAINING_DIR.glob(\"model_*\")), key=lambda x: int(\"\".join(re.findall(r\"\\d\", str(x)))))\n",
    "\n",
    "with open(str(cfg_path), 'r') as file:\n",
    "    CFG = yaml.load(file, Loader=yaml.FullLoader)\n",
    "\n",
    "assert cfg_path.exists() and history_path.exists() and cfg_path.exists()"
   ]
  },
  {
   "cell_type": "code",
   "execution_count": 3,
   "metadata": {},
   "outputs": [
    {
     "data": {
      "text/plain": [
       "<All keys matched successfully>"
      ]
     },
     "execution_count": 3,
     "metadata": {},
     "output_type": "execute_result"
    }
   ],
   "source": [
    "SEGMENT_SIZE = CFG[\"segment_size\"]\n",
    "RANDOM_TRACK_MIX = CFG[\"random_track_mix\"]\n",
    "TARGETS = CFG[\"targets\"]\n",
    "N_SRC = len(TARGETS)\n",
    "LOSS = CFG[\"loss\"]\n",
    "STORE_GRADIENT_NORM = CFG[\"store_gradient_norm\"]\n",
    "VERBOSE = CFG[\"verbose\"]\n",
    "SAVE_WEIGHTS_EACH_EPOCH = CFG[\"save_weights_each_epoch\"]\n",
    "\n",
    "#####################\n",
    "##### HYPER-PARAMETERS\n",
    "#####################\n",
    "SAMPLE_RATE = CFG[\"sample_rate\"]\n",
    "SIZE = None if CFG[\"size\"] == -1 else CFG[\"size\"]\n",
    "LR = CFG[\"learning_rate\"]\n",
    "N_EPOCHS = CFG[\"n_epochs\"]\n",
    "TRAIN_BATCH_SIZE = CFG[\"train_batch_size\"]\n",
    "TEST_BATCH_SIZE = CFG[\"test_batch_size\"]\n",
    "NUM_WORKERS = CFG[\"num_workers\"]\n",
    "if \"device\" in CFG:\n",
    "    if CFG[\"device\"] == \"cuda\" and torch.cuda.is_available():\n",
    "        DEVICE = torch.device(\"cuda\")\n",
    "    else:\n",
    "        DEVICE = torch.device(\"cpu\")\n",
    "else:\n",
    "    DEVICE = \"cpu\"\n",
    "\n",
    "X = CFG[\"X\"]\n",
    "R = CFG[\"R\"]\n",
    "B = CFG[\"B\"]\n",
    "H = CFG[\"H\"]\n",
    "Sc = CFG[\"Sc\"]\n",
    "P = CFG[\"P\"]\n",
    "L = CFG[\"L\"]\n",
    "N = CFG[\"N\"]\n",
    "STRIDE = CFG[\"stride\"]\n",
    "CLIP = CFG[\"gradient_clipping\"]\n",
    "\n",
    "model = ConvTasNet(\n",
    "    C=N_SRC,\n",
    "    X=X,\n",
    "    R=R,\n",
    "    B=B,\n",
    "    H=H,\n",
    "    P=P,\n",
    "    L=L,\n",
    "    N=N,\n",
    "    stride=STRIDE,\n",
    "    mask_nonlinear=\"softmax\",\n",
    "    device=DEVICE\n",
    ").to(DEVICE)\n",
    "\n",
    "model.load_state_dict(torch.load(best_model_path)[\"model_state_dict\"])"
   ]
  },
  {
   "cell_type": "code",
   "execution_count": 4,
   "metadata": {},
   "outputs": [
    {
     "name": "stderr",
     "output_type": "stream",
     "text": [
      "50it [00:01, 42.92it/s]\n"
     ]
    }
   ],
   "source": [
    "test_dataset = MUSDB18Dataset(\n",
    "    root=DATA_DIR.__str__(),\n",
    "    targets=TARGETS,\n",
    "    suffix=\".mp4\",\n",
    "    split=\"test\",\n",
    "    subset=None,\n",
    "    segment=1,\n",
    "    samples_per_track=1,\n",
    "    random_segments=True,\n",
    "    random_track_mix=RANDOM_TRACK_MIX,\n",
    "    sample_rate=SAMPLE_RATE,\n",
    "    size=SIZE\n",
    ")\n",
    "test_loader = DataLoader(test_dataset, batch_size=1, num_workers=0)"
   ]
  },
  {
   "cell_type": "code",
   "execution_count": 5,
   "metadata": {},
   "outputs": [
    {
     "data": {
      "text/plain": [
       "'\\nfor i, (x, y) in enumerate(test_loader):\\n    wavfile.write(f\"./{i}-mix.wav\", SAMPLE_RATE, x[0].detach().numpy())\\n    for j, name in enumerate(TARGETS):\\n        wavfile.write(f\"./{i}-{name}.wav\", SAMPLE_RATE, y[0][j].detach().numpy())\\n'"
      ]
     },
     "execution_count": 5,
     "metadata": {},
     "output_type": "execute_result"
    }
   ],
   "source": [
    "\"\"\"\n",
    "for i, (x, y) in enumerate(test_loader):\n",
    "    wavfile.write(f\"./{i}-mix.wav\", SAMPLE_RATE, x[0].detach().numpy())\n",
    "    for j, name in enumerate(TARGETS):\n",
    "        wavfile.write(f\"./{i}-{name}.wav\", SAMPLE_RATE, y[0][j].detach().numpy())\n",
    "\"\"\""
   ]
  },
  {
   "cell_type": "code",
   "execution_count": 6,
   "metadata": {},
   "outputs": [],
   "source": [
    "import warnings\n",
    "warnings.filterwarnings('ignore')\n",
    "\n",
    "COLUMNS = [\"vocals\", \"other\", \"bass\", \"drums\"]\n",
    "df_sdr = pd.DataFrame(data=[], columns=COLUMNS)\n",
    "df_isr = pd.DataFrame(data=[], columns=COLUMNS)\n",
    "df_sir = pd.DataFrame(data=[], columns=COLUMNS)\n",
    "df_sar = pd.DataFrame(data=[], columns=COLUMNS)\n",
    "\n",
    "for i, (x, y) in enumerate(test_loader):\n",
    "    pred = model(x).detach().numpy()\n",
    "    \n",
    "    try:\n",
    "        SDR, ISR, SIR, SAR, _ = museval.metrics.bss_eval(\n",
    "            y[0],\n",
    "            pred[0],\n",
    "            compute_permutation=True,\n",
    "            window=1*SAMPLE_RATE,\n",
    "            hop=1*SAMPLE_RATE,\n",
    "            framewise_filters=False,\n",
    "            bsseval_sources_version=False\n",
    "        )\n",
    "        \n",
    "        df_sdr = pd.concat([df_sdr, pd.DataFrame(data=[SDR.reshape(-1).tolist()], columns=COLUMNS)])\n",
    "        df_isr = pd.concat([df_sdr, pd.DataFrame(data=[ISR.reshape(-1).tolist()], columns=COLUMNS)])\n",
    "        df_sir = pd.concat([df_sdr, pd.DataFrame(data=[SIR.reshape(-1).tolist()], columns=COLUMNS)])\n",
    "        df_sar = pd.concat([df_sdr, pd.DataFrame(data=[SAR.reshape(-1).tolist()], columns=COLUMNS)])\n",
    "    except:\n",
    "        pass"
   ]
  },
  {
   "cell_type": "code",
   "execution_count": null,
   "metadata": {},
   "outputs": [],
   "source": [
    "df_sdr.to_csv(str(TRAINING_DIR/f\"df_sdr.csv\"))\n",
    "df_isr.to_csv(str(TRAINING_DIR/f\"df_isr.csv\"))\n",
    "df_sar.to_csv(str(TRAINING_DIR/f\"df_sar.csv\"))\n",
    "df_sir.to_csv(str(TRAINING_DIR/f\"df_sir.csv\"))"
   ]
  },
  {
   "cell_type": "code",
   "execution_count": null,
   "metadata": {},
   "outputs": [],
   "source": [
    "res = []\n",
    "for metric in ('sdr', 'isr', 'sar', 'sir'):\n",
    "    df = eval(f\"df_{metric}\")\n",
    "    r = [metric, *df.mean().values.tolist()]\n",
    "    res.append(r)\n",
    "\n",
    "df_results = pd.DataFrame(data=res, columns=[\"Metric\", *COLUMNS])\n",
    "df_results.to_csv(str(TRAINING_DIR/f\"results.csv\"))"
   ]
  }
 ],
 "metadata": {
  "interpreter": {
   "hash": "8ee98f8cc5c61c7bb85862890f9fa26c929bedb663baf44f10e1854389fd85ca"
  },
  "kernelspec": {
   "display_name": "Python 3.9.7",
   "language": "python",
   "name": "python3"
  },
  "language_info": {
   "codemirror_mode": {
    "name": "ipython",
    "version": 3
   },
   "file_extension": ".py",
   "mimetype": "text/x-python",
   "name": "python",
   "nbconvert_exporter": "python",
   "pygments_lexer": "ipython3",
   "version": "3.9.7"
  },
  "orig_nbformat": 4
 },
 "nbformat": 4,
 "nbformat_minor": 2
}
