{
 "cells": [
  {
   "cell_type": "markdown",
   "metadata": {},
   "source": [
    "# 1.Imports"
   ]
  },
  {
   "cell_type": "code",
   "execution_count": 1,
   "metadata": {},
   "outputs": [],
   "source": [
    "import re\n",
    "import sys\n",
    "import yaml\n",
    "import torch\n",
    "import random\n",
    "import librosa\n",
    "import numpy as np\n",
    "import pandas as pd\n",
    "import seaborn as sns\n",
    "from pathlib import Path\n",
    "from scipy.io import wavfile\n",
    "import matplotlib.pyplot as plt\n",
    "\n",
    "sys.path.append(\"../\")\n",
    "from kaituoxu.conv_tasnet import ConvTasNet\n",
    "from asteroid.data import MUSDB18Dataset"
   ]
  },
  {
   "cell_type": "code",
   "execution_count": 2,
   "metadata": {},
   "outputs": [],
   "source": [
    "DATA_DIR = Path(\"../musdb_data\")\n",
    "\n",
    "TEST_SONG = DATA_DIR/\"test/Al James - Schoolboy Facination.stem.mp4\"\n",
    "\n",
    "TRAINING_DIR = Path('../experiment_results/exp-12/training_20220310-104337')\n",
    "cfg_path = next(TRAINING_DIR.glob('*.yaml'))\n",
    "history_path = TRAINING_DIR/\"history.csv\"\n",
    "best_model_path = TRAINING_DIR/\"model.pth\"\n",
    "\n",
    "try:\n",
    "    last_model_path = sorted(list(TRAINING_DIR.glob(\"model_epoch*\")), key=lambda x: int(\"\".join(re.findall(r\"\\d\", str(x)))))[-1]\n",
    "except:\n",
    "    last_model_path = None\n",
    "\n",
    "with open(str(cfg_path), 'r') as file:\n",
    "    CFG = yaml.load(file, Loader=yaml.FullLoader)\n",
    "\n",
    "assert cfg_path.exists() and history_path.exists() and best_model_path.exists() and cfg_path.exists()"
   ]
  },
  {
   "cell_type": "markdown",
   "metadata": {},
   "source": [
    "## Hyper parameters:"
   ]
  },
  {
   "cell_type": "code",
   "execution_count": 3,
   "metadata": {},
   "outputs": [
    {
     "name": "stdout",
     "output_type": "stream",
     "text": [
      ">>> SAMPLE_RATE -> 44100\n",
      ">>> SIZE -> -1\n",
      ">>> LEARNING_RATE -> 0.001\n",
      ">>> N_EPOCHS -> 100\n",
      ">>> TRAIN_BATCH_SIZE -> 2\n",
      ">>> TEST_BATCH_SIZE -> 64\n",
      ">>> SEGMENT_SIZE -> 1\n",
      ">>> RANDOM_TRACK_MIX -> False\n",
      ">>> TARGETS -> ['drums', 'bass', 'other', 'vocals']\n",
      ">>> X -> 8\n",
      ">>> R -> 3\n",
      ">>> B -> 128\n",
      ">>> H -> 512\n",
      ">>> SC -> 128\n",
      ">>> P -> 3\n",
      ">>> L -> 16\n",
      ">>> N -> 512\n",
      ">>> STRIDE -> 8\n",
      ">>> LOSS -> l1_loss\n",
      ">>> STORE_GRADIENT_NORM -> True\n",
      ">>> VERBOSE -> 0\n",
      ">>> GRADIENT_CLIPPING -> 5\n",
      ">>> SAVE_WEIGHTS_EACH_EPOCH -> False\n",
      ">>> NUM_WORKERS -> 2\n"
     ]
    }
   ],
   "source": [
    "for key, value in CFG.items():\n",
    "    print(f\">>> {key.upper()} -> {value}\")"
   ]
  },
  {
   "cell_type": "markdown",
   "metadata": {},
   "source": [
    "# 2. Learning Curves"
   ]
  },
  {
   "cell_type": "code",
   "execution_count": 4,
   "metadata": {},
   "outputs": [],
   "source": [
    "df = pd.read_csv(history_path)\n",
    "epochs = df.index.values\n",
    "train_loss = df.train_loss\n",
    "val_loss = df.val_loss"
   ]
  },
  {
   "cell_type": "code",
   "execution_count": 5,
   "metadata": {},
   "outputs": [
    {
     "data": {
      "text/html": [
       "<div>\n",
       "<style scoped>\n",
       "    .dataframe tbody tr th:only-of-type {\n",
       "        vertical-align: middle;\n",
       "    }\n",
       "\n",
       "    .dataframe tbody tr th {\n",
       "        vertical-align: top;\n",
       "    }\n",
       "\n",
       "    .dataframe thead th {\n",
       "        text-align: right;\n",
       "    }\n",
       "</style>\n",
       "<table border=\"1\" class=\"dataframe\">\n",
       "  <thead>\n",
       "    <tr style=\"text-align: right;\">\n",
       "      <th></th>\n",
       "      <th>epoch</th>\n",
       "      <th>train_loss</th>\n",
       "      <th>val_loss</th>\n",
       "      <th>train_mse_loss</th>\n",
       "      <th>val_mse_loss</th>\n",
       "      <th>train_snr</th>\n",
       "      <th>val_snr</th>\n",
       "      <th>lr</th>\n",
       "    </tr>\n",
       "  </thead>\n",
       "  <tbody>\n",
       "    <tr>\n",
       "      <th>0</th>\n",
       "      <td>0</td>\n",
       "      <td>0.016517</td>\n",
       "      <td>0.000619</td>\n",
       "      <td>0.000811</td>\n",
       "      <td>0.000031</td>\n",
       "      <td>0.0</td>\n",
       "      <td>0.0</td>\n",
       "      <td>1.000000e-03</td>\n",
       "    </tr>\n",
       "    <tr>\n",
       "      <th>1</th>\n",
       "      <td>1</td>\n",
       "      <td>0.016748</td>\n",
       "      <td>0.000606</td>\n",
       "      <td>0.000811</td>\n",
       "      <td>0.000031</td>\n",
       "      <td>0.0</td>\n",
       "      <td>0.0</td>\n",
       "      <td>1.000000e-03</td>\n",
       "    </tr>\n",
       "    <tr>\n",
       "      <th>2</th>\n",
       "      <td>2</td>\n",
       "      <td>0.015816</td>\n",
       "      <td>0.000586</td>\n",
       "      <td>0.000811</td>\n",
       "      <td>0.000031</td>\n",
       "      <td>0.0</td>\n",
       "      <td>0.0</td>\n",
       "      <td>1.000000e-03</td>\n",
       "    </tr>\n",
       "    <tr>\n",
       "      <th>3</th>\n",
       "      <td>3</td>\n",
       "      <td>0.015875</td>\n",
       "      <td>0.000576</td>\n",
       "      <td>0.000811</td>\n",
       "      <td>0.000031</td>\n",
       "      <td>0.0</td>\n",
       "      <td>0.0</td>\n",
       "      <td>1.000000e-03</td>\n",
       "    </tr>\n",
       "    <tr>\n",
       "      <th>4</th>\n",
       "      <td>4</td>\n",
       "      <td>0.015412</td>\n",
       "      <td>0.000572</td>\n",
       "      <td>0.000811</td>\n",
       "      <td>0.000031</td>\n",
       "      <td>0.0</td>\n",
       "      <td>0.0</td>\n",
       "      <td>1.000000e-03</td>\n",
       "    </tr>\n",
       "    <tr>\n",
       "      <th>...</th>\n",
       "      <td>...</td>\n",
       "      <td>...</td>\n",
       "      <td>...</td>\n",
       "      <td>...</td>\n",
       "      <td>...</td>\n",
       "      <td>...</td>\n",
       "      <td>...</td>\n",
       "      <td>...</td>\n",
       "    </tr>\n",
       "    <tr>\n",
       "      <th>96</th>\n",
       "      <td>96</td>\n",
       "      <td>0.013423</td>\n",
       "      <td>0.000511</td>\n",
       "      <td>0.000811</td>\n",
       "      <td>0.000031</td>\n",
       "      <td>0.0</td>\n",
       "      <td>0.0</td>\n",
       "      <td>2.441406e-07</td>\n",
       "    </tr>\n",
       "    <tr>\n",
       "      <th>97</th>\n",
       "      <td>97</td>\n",
       "      <td>0.014132</td>\n",
       "      <td>0.000521</td>\n",
       "      <td>0.000811</td>\n",
       "      <td>0.000031</td>\n",
       "      <td>0.0</td>\n",
       "      <td>0.0</td>\n",
       "      <td>2.441406e-07</td>\n",
       "    </tr>\n",
       "    <tr>\n",
       "      <th>98</th>\n",
       "      <td>98</td>\n",
       "      <td>0.013410</td>\n",
       "      <td>0.000466</td>\n",
       "      <td>0.000811</td>\n",
       "      <td>0.000031</td>\n",
       "      <td>0.0</td>\n",
       "      <td>0.0</td>\n",
       "      <td>2.441406e-07</td>\n",
       "    </tr>\n",
       "    <tr>\n",
       "      <th>99</th>\n",
       "      <td>99</td>\n",
       "      <td>0.013175</td>\n",
       "      <td>0.000567</td>\n",
       "      <td>0.000811</td>\n",
       "      <td>0.000031</td>\n",
       "      <td>0.0</td>\n",
       "      <td>0.0</td>\n",
       "      <td>1.220703e-07</td>\n",
       "    </tr>\n",
       "    <tr>\n",
       "      <th>100</th>\n",
       "      <td>100</td>\n",
       "      <td>0.012809</td>\n",
       "      <td>0.000498</td>\n",
       "      <td>0.000811</td>\n",
       "      <td>0.000031</td>\n",
       "      <td>0.0</td>\n",
       "      <td>0.0</td>\n",
       "      <td>1.220703e-07</td>\n",
       "    </tr>\n",
       "  </tbody>\n",
       "</table>\n",
       "<p>101 rows × 8 columns</p>\n",
       "</div>"
      ],
      "text/plain": [
       "     epoch  train_loss  val_loss  train_mse_loss  val_mse_loss  train_snr  \\\n",
       "0        0    0.016517  0.000619        0.000811      0.000031        0.0   \n",
       "1        1    0.016748  0.000606        0.000811      0.000031        0.0   \n",
       "2        2    0.015816  0.000586        0.000811      0.000031        0.0   \n",
       "3        3    0.015875  0.000576        0.000811      0.000031        0.0   \n",
       "4        4    0.015412  0.000572        0.000811      0.000031        0.0   \n",
       "..     ...         ...       ...             ...           ...        ...   \n",
       "96      96    0.013423  0.000511        0.000811      0.000031        0.0   \n",
       "97      97    0.014132  0.000521        0.000811      0.000031        0.0   \n",
       "98      98    0.013410  0.000466        0.000811      0.000031        0.0   \n",
       "99      99    0.013175  0.000567        0.000811      0.000031        0.0   \n",
       "100    100    0.012809  0.000498        0.000811      0.000031        0.0   \n",
       "\n",
       "     val_snr            lr  \n",
       "0        0.0  1.000000e-03  \n",
       "1        0.0  1.000000e-03  \n",
       "2        0.0  1.000000e-03  \n",
       "3        0.0  1.000000e-03  \n",
       "4        0.0  1.000000e-03  \n",
       "..       ...           ...  \n",
       "96       0.0  2.441406e-07  \n",
       "97       0.0  2.441406e-07  \n",
       "98       0.0  2.441406e-07  \n",
       "99       0.0  1.220703e-07  \n",
       "100      0.0  1.220703e-07  \n",
       "\n",
       "[101 rows x 8 columns]"
      ]
     },
     "execution_count": 5,
     "metadata": {},
     "output_type": "execute_result"
    }
   ],
   "source": [
    "df"
   ]
  },
  {
   "cell_type": "code",
   "execution_count": 6,
   "metadata": {},
   "outputs": [
    {
     "data": {
      "image/png": "[encoded data removed]",
      "text/plain": [
       "<Figure size 720x504 with 1 Axes>"
      ]
     },
     "metadata": {},
     "output_type": "display_data"
    }
   ],
   "source": [
    "plt.figure(figsize=(10, 7))\n",
    "plt.plot(epochs, train_loss, label='train loss')\n",
    "plt.plot(epochs, val_loss, label='val loss')\n",
    "plt.title(\"Learning curve\")\n",
    "plt.xlabel(\"Epochs\")\n",
    "plt.ylabel(\"L1-Loss\")\n",
    "plt.legend()\n",
    "plt.grid()\n",
    "plt.plot();"
   ]
  },
  {
   "cell_type": "markdown",
   "metadata": {},
   "source": [
    "## Observations :\n",
    "\n"
   ]
  },
  {
   "cell_type": "markdown",
   "metadata": {},
   "source": [
    "# 3. Load model"
   ]
  },
  {
   "cell_type": "code",
   "execution_count": 7,
   "metadata": {},
   "outputs": [
    {
     "data": {
      "text/plain": [
       "<All keys matched successfully>"
      ]
     },
     "execution_count": 7,
     "metadata": {},
     "output_type": "execute_result"
    }
   ],
   "source": [
    "TARGETS = CFG[\"targets\"]\n",
    "N_SRC = len(TARGETS)\n",
    "SAMPLE_RATE = CFG[\"sample_rate\"]\n",
    "SIZE = None if CFG[\"size\"] == -1 else CFG[\"size\"]\n",
    "LR = CFG[\"learning_rate\"]\n",
    "N_EPOCHS = CFG[\"n_epochs\"]\n",
    "TRAIN_BATCH_SIZE = CFG[\"train_batch_size\"]\n",
    "TEST_BATCH_SIZE = CFG[\"test_batch_size\"]\n",
    "NUM_WORKERS = CFG[\"num_workers\"]\n",
    "if \"device\" in CFG:\n",
    "    if CFG[\"device\"] == \"cuda\" and torch.cuda.is_available():\n",
    "        DEVICE = torch.device(\"cuda\")\n",
    "    else:\n",
    "        DEVICE = torch.device(\"cpu\")\n",
    "else:\n",
    "    DEVICE = \"cpu\"\n",
    "\n",
    "X = CFG[\"X\"]\n",
    "R = CFG[\"R\"]\n",
    "B = CFG[\"B\"]\n",
    "H = CFG[\"H\"]\n",
    "Sc = CFG[\"Sc\"]\n",
    "P = CFG[\"P\"]\n",
    "L = CFG[\"L\"]\n",
    "N = CFG[\"N\"]\n",
    "STRIDE = CFG[\"stride\"]\n",
    "CLIP = CFG[\"gradient_clipping\"]\n",
    "\n",
    "model = ConvTasNet(\n",
    "    C=N_SRC,\n",
    "    X=X,\n",
    "    R=R,\n",
    "    B=B,\n",
    "    H=H,\n",
    "    P=P,\n",
    "    L=L,\n",
    "    N=N,\n",
    "    stride=STRIDE,\n",
    "    mask_nonlinear=\"softmax\",\n",
    "    device=DEVICE\n",
    ").to(DEVICE)\n",
    "\n",
    "model.load_state_dict(torch.load(best_model_path)[\"model_state_dict\"])"
   ]
  },
  {
   "cell_type": "code",
   "execution_count": 8,
   "metadata": {},
   "outputs": [
    {
     "data": {
      "text/plain": [
       "['drums', 'bass', 'other', 'vocals']"
      ]
     },
     "execution_count": 8,
     "metadata": {},
     "output_type": "execute_result"
    }
   ],
   "source": [
    "TARGETS"
   ]
  },
  {
   "cell_type": "markdown",
   "metadata": {},
   "source": [
    "# 4. Separation test"
   ]
  },
  {
   "cell_type": "code",
   "execution_count": 9,
   "metadata": {},
   "outputs": [
    {
     "name": "stderr",
     "output_type": "stream",
     "text": [
      "/Users/alexandre/opt/anaconda3/envs/IA321_env/lib/python3.9/site-packages/librosa/core/audio.py:165: UserWarning: PySoundFile failed. Trying audioread instead.\n",
      "  warnings.warn(\"PySoundFile failed. Trying audioread instead.\")\n"
     ]
    }
   ],
   "source": [
    "sound, sr = librosa.load(TEST_SONG.__str__(), sr=SAMPLE_RATE)"
   ]
  },
  {
   "cell_type": "code",
   "execution_count": 10,
   "metadata": {},
   "outputs": [],
   "source": [
    "start = random.randint(0, len(sound) - 10 * SAMPLE_RATE)\n",
    "stop = start + 10 * SAMPLE_RATE\n",
    "\n",
    "sound = torch.tensor(sound[start:stop])"
   ]
  },
  {
   "cell_type": "code",
   "execution_count": 11,
   "metadata": {},
   "outputs": [
    {
     "name": "stderr",
     "output_type": "stream",
     "text": [
      "/Users/alexandre/Cours/3A/Cours/IA321 - Blind Source Separation/Blind Source Separation/Music-Source-Separation/notebooks/../kaituoxu/utils.py:40: UserWarning: To copy construct from a tensor, it is recommended to use sourceTensor.clone().detach() or sourceTensor.clone().detach().requires_grad_(True), rather than tensor.new_tensor(sourceTensor).\n",
      "  frame = signal.new_tensor(frame).long()  # signal may in GPU or CPU\n"
     ]
    }
   ],
   "source": [
    "pred = model(sound.view(1, -1))"
   ]
  },
  {
   "cell_type": "code",
   "execution_count": 12,
   "metadata": {},
   "outputs": [
    {
     "data": {
      "text/plain": [
       "['drums', 'bass', 'other', 'vocals']"
      ]
     },
     "execution_count": 12,
     "metadata": {},
     "output_type": "execute_result"
    }
   ],
   "source": [
    "TARGETS"
   ]
  },
  {
   "cell_type": "code",
   "execution_count": 13,
   "metadata": {},
   "outputs": [],
   "source": [
    "wavfile.write(str(TRAINING_DIR/\"mix.wav\"), SAMPLE_RATE, sound.view(-1).detach().numpy())\n",
    "for i, name in enumerate(TARGETS):\n",
    "    wavfile.write(str(TRAINING_DIR/f\"./estimated-{name}.wav\"), SAMPLE_RATE, pred[0][i].detach().numpy())"
   ]
  }
 ],
 "metadata": {
  "interpreter": {
   "hash": "8ee98f8cc5c61c7bb85862890f9fa26c929bedb663baf44f10e1854389fd85ca"
  },
  "kernelspec": {
   "display_name": "Python 3.9.7",
   "language": "python",
   "name": "python3"
  },
  "language_info": {
   "codemirror_mode": {
    "name": "ipython",
    "version": 3
   },
   "file_extension": ".py",
   "mimetype": "text/x-python",
   "name": "python",
   "nbconvert_exporter": "python",
   "pygments_lexer": "ipython3",
   "version": "3.9.7"
  },
  "orig_nbformat": 4
 },
 "nbformat": 4,
 "nbformat_minor": 2
}
