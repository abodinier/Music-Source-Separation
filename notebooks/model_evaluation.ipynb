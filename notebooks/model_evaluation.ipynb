{
 "cells": [
  {
   "cell_type": "markdown",
   "metadata": {},
   "source": [
    "# 1.Imports"
   ]
  },
  {
   "cell_type": "code",
   "execution_count": 25,
   "metadata": {},
   "outputs": [],
   "source": [
    "import re\n",
    "import sys\n",
    "import yaml\n",
    "import torch\n",
    "import random\n",
    "import librosa\n",
    "import numpy as np\n",
    "import pandas as pd\n",
    "import seaborn as sns\n",
    "from pathlib import Path\n",
    "from scipy.io import wavfile\n",
    "import matplotlib.pyplot as plt\n",
    "\n",
    "sys.path.append(\"../\")\n",
    "from kaituoxu.conv_tasnet import ConvTasNet\n",
    "from asteroid.data import MUSDB18Dataset"
   ]
  },
  {
   "cell_type": "code",
   "execution_count": 26,
   "metadata": {},
   "outputs": [],
   "source": [
    "DATA_DIR = Path(\"../musdb_data\")\n",
    "\n",
    "TEST_SONG = DATA_DIR/\"test/Al James - Schoolboy Facination.stem.mp4\"\n",
    "\n",
    "TRAINING_DIR = Path('../experiment_results/exp-13/training_20220313-122104.468')\n",
    "cfg_path = next(TRAINING_DIR.glob('*.yaml'))\n",
    "history_path = TRAINING_DIR/\"history.csv\"\n",
    "best_model_path = TRAINING_DIR/\"model.pth\"\n",
    "\n",
    "try:\n",
    "    last_model_path = sorted(list(TRAINING_DIR.glob(\"model_epoch*\")), key=lambda x: int(\"\".join(re.findall(r\"\\d\", str(x)))))[-1]\n",
    "except:\n",
    "    last_model_path = None\n",
    "\n",
    "with open(str(cfg_path), 'r') as file:\n",
    "    CFG = yaml.load(file, Loader=yaml.FullLoader)\n",
    "\n",
    "assert cfg_path.exists() and history_path.exists() and best_model_path.exists() and cfg_path.exists()"
   ]
  },
  {
   "cell_type": "markdown",
   "metadata": {},
   "source": [
    "## Hyper parameters:"
   ]
  },
  {
   "cell_type": "code",
   "execution_count": 27,
   "metadata": {},
   "outputs": [
    {
     "name": "stdout",
     "output_type": "stream",
     "text": [
      ">>> SAMPLE_RATE -> 22050\n",
      ">>> SIZE -> -1\n",
      ">>> LEARNING_RATE -> 0.001\n",
      ">>> N_EPOCHS -> 100\n",
      ">>> TRAIN_BATCH_SIZE -> 2\n",
      ">>> TEST_BATCH_SIZE -> 2\n",
      ">>> SEGMENT_SIZE -> 4\n",
      ">>> RANDOM_TRACK_MIX -> False\n",
      ">>> TARGETS -> ['drums', 'bass', 'other', 'vocals']\n",
      ">>> X -> 10\n",
      ">>> R -> 4\n",
      ">>> B -> 256\n",
      ">>> H -> 512\n",
      ">>> SC -> 256\n",
      ">>> P -> 3\n",
      ">>> L -> 20\n",
      ">>> N -> 512\n",
      ">>> STRIDE -> 10\n",
      ">>> LOSS -> l1_loss\n",
      ">>> STORE_GRADIENT_NORM -> True\n",
      ">>> VERBOSE -> 0\n",
      ">>> GRADIENT_CLIPPING -> 5\n",
      ">>> SAVE_WEIGHTS_EACH_EPOCH -> False\n",
      ">>> NUM_WORKERS -> 2\n",
      ">>> DEVICE -> cpu\n"
     ]
    }
   ],
   "source": [
    "for key, value in CFG.items():\n",
    "    print(f\">>> {key.upper()} -> {value}\")"
   ]
  },
  {
   "cell_type": "markdown",
   "metadata": {},
   "source": [
    "# 2. Learning Curves"
   ]
  },
  {
   "cell_type": "code",
   "execution_count": 28,
   "metadata": {},
   "outputs": [],
   "source": [
    "df = pd.read_csv(history_path)\n",
    "epochs = df.index.values\n",
    "train_loss = df.train_loss\n",
    "val_loss = df.val_loss"
   ]
  },
  {
   "cell_type": "code",
   "execution_count": 29,
   "metadata": {},
   "outputs": [
    {
     "data": {
      "text/html": [
       "<div>\n",
       "<style scoped>\n",
       "    .dataframe tbody tr th:only-of-type {\n",
       "        vertical-align: middle;\n",
       "    }\n",
       "\n",
       "    .dataframe tbody tr th {\n",
       "        vertical-align: top;\n",
       "    }\n",
       "\n",
       "    .dataframe thead th {\n",
       "        text-align: right;\n",
       "    }\n",
       "</style>\n",
       "<table border=\"1\" class=\"dataframe\">\n",
       "  <thead>\n",
       "    <tr style=\"text-align: right;\">\n",
       "      <th></th>\n",
       "      <th>epoch</th>\n",
       "      <th>train_loss</th>\n",
       "      <th>val_loss</th>\n",
       "      <th>train_mse_loss</th>\n",
       "      <th>val_mse_loss</th>\n",
       "      <th>train_snr</th>\n",
       "      <th>val_snr</th>\n",
       "      <th>lr</th>\n",
       "    </tr>\n",
       "  </thead>\n",
       "  <tbody>\n",
       "    <tr>\n",
       "      <th>0</th>\n",
       "      <td>0</td>\n",
       "      <td>0.023681</td>\n",
       "      <td>0.023926</td>\n",
       "      <td>0.001197</td>\n",
       "      <td>0.001189</td>\n",
       "      <td>-14.707563</td>\n",
       "      <td>-19.699129</td>\n",
       "      <td>1.000000e-03</td>\n",
       "    </tr>\n",
       "    <tr>\n",
       "      <th>1</th>\n",
       "      <td>1</td>\n",
       "      <td>0.022703</td>\n",
       "      <td>0.030356</td>\n",
       "      <td>0.001197</td>\n",
       "      <td>0.001189</td>\n",
       "      <td>-14.319911</td>\n",
       "      <td>-18.147832</td>\n",
       "      <td>1.000000e-03</td>\n",
       "    </tr>\n",
       "    <tr>\n",
       "      <th>2</th>\n",
       "      <td>2</td>\n",
       "      <td>0.029403</td>\n",
       "      <td>0.019901</td>\n",
       "      <td>0.001197</td>\n",
       "      <td>0.001189</td>\n",
       "      <td>-14.180089</td>\n",
       "      <td>-17.422884</td>\n",
       "      <td>1.000000e-03</td>\n",
       "    </tr>\n",
       "    <tr>\n",
       "      <th>3</th>\n",
       "      <td>3</td>\n",
       "      <td>0.019931</td>\n",
       "      <td>0.022305</td>\n",
       "      <td>0.001197</td>\n",
       "      <td>0.001189</td>\n",
       "      <td>-13.149370</td>\n",
       "      <td>-16.345361</td>\n",
       "      <td>1.000000e-03</td>\n",
       "    </tr>\n",
       "    <tr>\n",
       "      <th>4</th>\n",
       "      <td>4</td>\n",
       "      <td>0.024016</td>\n",
       "      <td>0.016930</td>\n",
       "      <td>0.001197</td>\n",
       "      <td>0.001189</td>\n",
       "      <td>-13.655058</td>\n",
       "      <td>-14.679458</td>\n",
       "      <td>1.000000e-03</td>\n",
       "    </tr>\n",
       "    <tr>\n",
       "      <th>...</th>\n",
       "      <td>...</td>\n",
       "      <td>...</td>\n",
       "      <td>...</td>\n",
       "      <td>...</td>\n",
       "      <td>...</td>\n",
       "      <td>...</td>\n",
       "      <td>...</td>\n",
       "      <td>...</td>\n",
       "    </tr>\n",
       "    <tr>\n",
       "      <th>96</th>\n",
       "      <td>96</td>\n",
       "      <td>0.016430</td>\n",
       "      <td>0.015099</td>\n",
       "      <td>0.001197</td>\n",
       "      <td>0.001189</td>\n",
       "      <td>-10.737120</td>\n",
       "      <td>-9.650688</td>\n",
       "      <td>2.441406e-07</td>\n",
       "    </tr>\n",
       "    <tr>\n",
       "      <th>97</th>\n",
       "      <td>97</td>\n",
       "      <td>0.017671</td>\n",
       "      <td>0.015417</td>\n",
       "      <td>0.001197</td>\n",
       "      <td>0.001189</td>\n",
       "      <td>-9.620216</td>\n",
       "      <td>-12.284346</td>\n",
       "      <td>2.441406e-07</td>\n",
       "    </tr>\n",
       "    <tr>\n",
       "      <th>98</th>\n",
       "      <td>98</td>\n",
       "      <td>0.017169</td>\n",
       "      <td>0.015621</td>\n",
       "      <td>0.001197</td>\n",
       "      <td>0.001189</td>\n",
       "      <td>-9.165894</td>\n",
       "      <td>-12.583341</td>\n",
       "      <td>2.441406e-07</td>\n",
       "    </tr>\n",
       "    <tr>\n",
       "      <th>99</th>\n",
       "      <td>99</td>\n",
       "      <td>0.017307</td>\n",
       "      <td>0.016104</td>\n",
       "      <td>0.001197</td>\n",
       "      <td>0.001189</td>\n",
       "      <td>-9.443329</td>\n",
       "      <td>-9.799011</td>\n",
       "      <td>2.441406e-07</td>\n",
       "    </tr>\n",
       "    <tr>\n",
       "      <th>100</th>\n",
       "      <td>100</td>\n",
       "      <td>0.016646</td>\n",
       "      <td>0.016373</td>\n",
       "      <td>0.001197</td>\n",
       "      <td>0.001189</td>\n",
       "      <td>-10.298374</td>\n",
       "      <td>-7.680855</td>\n",
       "      <td>1.220703e-07</td>\n",
       "    </tr>\n",
       "  </tbody>\n",
       "</table>\n",
       "<p>101 rows × 8 columns</p>\n",
       "</div>"
      ],
      "text/plain": [
       "     epoch  train_loss  val_loss  train_mse_loss  val_mse_loss  train_snr  \\\n",
       "0        0    0.023681  0.023926        0.001197      0.001189 -14.707563   \n",
       "1        1    0.022703  0.030356        0.001197      0.001189 -14.319911   \n",
       "2        2    0.029403  0.019901        0.001197      0.001189 -14.180089   \n",
       "3        3    0.019931  0.022305        0.001197      0.001189 -13.149370   \n",
       "4        4    0.024016  0.016930        0.001197      0.001189 -13.655058   \n",
       "..     ...         ...       ...             ...           ...        ...   \n",
       "96      96    0.016430  0.015099        0.001197      0.001189 -10.737120   \n",
       "97      97    0.017671  0.015417        0.001197      0.001189  -9.620216   \n",
       "98      98    0.017169  0.015621        0.001197      0.001189  -9.165894   \n",
       "99      99    0.017307  0.016104        0.001197      0.001189  -9.443329   \n",
       "100    100    0.016646  0.016373        0.001197      0.001189 -10.298374   \n",
       "\n",
       "       val_snr            lr  \n",
       "0   -19.699129  1.000000e-03  \n",
       "1   -18.147832  1.000000e-03  \n",
       "2   -17.422884  1.000000e-03  \n",
       "3   -16.345361  1.000000e-03  \n",
       "4   -14.679458  1.000000e-03  \n",
       "..         ...           ...  \n",
       "96   -9.650688  2.441406e-07  \n",
       "97  -12.284346  2.441406e-07  \n",
       "98  -12.583341  2.441406e-07  \n",
       "99   -9.799011  2.441406e-07  \n",
       "100  -7.680855  1.220703e-07  \n",
       "\n",
       "[101 rows x 8 columns]"
      ]
     },
     "execution_count": 29,
     "metadata": {},
     "output_type": "execute_result"
    }
   ],
   "source": [
    "df"
   ]
  },
  {
   "cell_type": "code",
   "execution_count": 30,
   "metadata": {},
   "outputs": [
    {
     "data": {
      "image/png": "[encoded data removed]",
      "text/plain": [
       "<Figure size 720x504 with 1 Axes>"
      ]
     },
     "metadata": {},
     "output_type": "display_data"
    }
   ],
   "source": [
    "plt.figure(figsize=(10, 7))\n",
    "plt.plot(epochs, train_loss, label='train loss')\n",
    "plt.plot(epochs, val_loss, label='val loss')\n",
    "plt.title(\"Learning curve\")\n",
    "plt.xlabel(\"Epochs\")\n",
    "plt.ylabel(\"L1-Loss\")\n",
    "plt.legend()\n",
    "plt.grid()\n",
    "plt.plot();"
   ]
  },
  {
   "cell_type": "markdown",
   "metadata": {},
   "source": [
    "## Observations :\n",
    "\n"
   ]
  },
  {
   "cell_type": "markdown",
   "metadata": {},
   "source": [
    "# 3. Load model"
   ]
  },
  {
   "cell_type": "code",
   "execution_count": 31,
   "metadata": {},
   "outputs": [
    {
     "data": {
      "text/plain": [
       "<All keys matched successfully>"
      ]
     },
     "execution_count": 31,
     "metadata": {},
     "output_type": "execute_result"
    }
   ],
   "source": [
    "TARGETS = CFG[\"targets\"]\n",
    "N_SRC = len(TARGETS)\n",
    "SAMPLE_RATE = CFG[\"sample_rate\"]\n",
    "SIZE = None if CFG[\"size\"] == -1 else CFG[\"size\"]\n",
    "LR = CFG[\"learning_rate\"]\n",
    "N_EPOCHS = CFG[\"n_epochs\"]\n",
    "TRAIN_BATCH_SIZE = CFG[\"train_batch_size\"]\n",
    "TEST_BATCH_SIZE = CFG[\"test_batch_size\"]\n",
    "NUM_WORKERS = CFG[\"num_workers\"]\n",
    "if \"device\" in CFG:\n",
    "    if CFG[\"device\"] == \"cuda\" and torch.cuda.is_available():\n",
    "        DEVICE = torch.device(\"cuda\")\n",
    "    else:\n",
    "        DEVICE = torch.device(\"cpu\")\n",
    "else:\n",
    "    DEVICE = \"cpu\"\n",
    "\n",
    "X = CFG[\"X\"]\n",
    "R = CFG[\"R\"]\n",
    "B = CFG[\"B\"]\n",
    "H = CFG[\"H\"]\n",
    "Sc = CFG[\"Sc\"]\n",
    "P = CFG[\"P\"]\n",
    "L = CFG[\"L\"]\n",
    "N = CFG[\"N\"]\n",
    "STRIDE = CFG[\"stride\"]\n",
    "CLIP = CFG[\"gradient_clipping\"]\n",
    "\n",
    "model = ConvTasNet(\n",
    "    C=N_SRC,\n",
    "    X=X,\n",
    "    R=R,\n",
    "    B=B,\n",
    "    H=H,\n",
    "    P=P,\n",
    "    L=L,\n",
    "    N=N,\n",
    "    stride=STRIDE,\n",
    "    mask_nonlinear=\"softmax\",\n",
    "    device=DEVICE\n",
    ").to(DEVICE)\n",
    "\n",
    "model.load_state_dict(torch.load(best_model_path)[\"model_state_dict\"])"
   ]
  },
  {
   "cell_type": "code",
   "execution_count": 32,
   "metadata": {},
   "outputs": [
    {
     "data": {
      "text/plain": [
       "['drums', 'bass', 'other', 'vocals']"
      ]
     },
     "execution_count": 32,
     "metadata": {},
     "output_type": "execute_result"
    }
   ],
   "source": [
    "TARGETS"
   ]
  },
  {
   "cell_type": "markdown",
   "metadata": {},
   "source": [
    "# 4. Separation test"
   ]
  },
  {
   "cell_type": "code",
   "execution_count": 33,
   "metadata": {},
   "outputs": [
    {
     "name": "stderr",
     "output_type": "stream",
     "text": [
      "/Users/alexandre/opt/anaconda3/envs/IA321_env/lib/python3.9/site-packages/librosa/core/audio.py:165: UserWarning: PySoundFile failed. Trying audioread instead.\n",
      "  warnings.warn(\"PySoundFile failed. Trying audioread instead.\")\n"
     ]
    }
   ],
   "source": [
    "sound, sr = librosa.load(TEST_SONG.__str__(), sr=SAMPLE_RATE)"
   ]
  },
  {
   "cell_type": "code",
   "execution_count": 34,
   "metadata": {},
   "outputs": [],
   "source": [
    "start = random.randint(0, len(sound) - 10 * SAMPLE_RATE)\n",
    "stop = start + 10 * SAMPLE_RATE\n",
    "\n",
    "sound = torch.tensor(sound[start:stop])"
   ]
  },
  {
   "cell_type": "code",
   "execution_count": 35,
   "metadata": {},
   "outputs": [
    {
     "name": "stderr",
     "output_type": "stream",
     "text": [
      "/Users/alexandre/Cours/3A/Cours/IA321 - Blind Source Separation/Blind Source Separation/Music-Source-Separation/notebooks/../kaituoxu/utils.py:40: UserWarning: To copy construct from a tensor, it is recommended to use sourceTensor.clone().detach() or sourceTensor.clone().detach().requires_grad_(True), rather than tensor.new_tensor(sourceTensor).\n",
      "  frame = signal.new_tensor(frame).long()  # signal may in GPU or CPU\n"
     ]
    }
   ],
   "source": [
    "pred = model(sound.view(1, -1))"
   ]
  },
  {
   "cell_type": "code",
   "execution_count": 36,
   "metadata": {},
   "outputs": [
    {
     "data": {
      "text/plain": [
       "torch.Size([1, 4, 220500])"
      ]
     },
     "execution_count": 36,
     "metadata": {},
     "output_type": "execute_result"
    }
   ],
   "source": [
    "pred.shape"
   ]
  },
  {
   "cell_type": "code",
   "execution_count": 37,
   "metadata": {},
   "outputs": [
    {
     "data": {
      "text/plain": [
       "['drums', 'bass', 'other', 'vocals']"
      ]
     },
     "execution_count": 37,
     "metadata": {},
     "output_type": "execute_result"
    }
   ],
   "source": [
    "TARGETS"
   ]
  },
  {
   "cell_type": "code",
   "execution_count": 38,
   "metadata": {},
   "outputs": [],
   "source": [
    "wavfile.write(f\"./mix.wav\", SAMPLE_RATE, sound.view(-1).detach().numpy())\n",
    "for i, name in enumerate(TARGETS):\n",
    "    wavfile.write(f\"./{name}.wav\", SAMPLE_RATE, pred[0][i].detach().numpy())"
   ]
  },
  {
   "cell_type": "code",
   "execution_count": null,
   "metadata": {},
   "outputs": [],
   "source": []
  }
 ],
 "metadata": {
  "interpreter": {
   "hash": "8ee98f8cc5c61c7bb85862890f9fa26c929bedb663baf44f10e1854389fd85ca"
  },
  "kernelspec": {
   "display_name": "Python 3.9.7",
   "language": "python",
   "name": "python3"
  },
  "language_info": {
   "codemirror_mode": {
    "name": "ipython",
    "version": 3
   },
   "file_extension": ".py",
   "mimetype": "text/x-python",
   "name": "python",
   "nbconvert_exporter": "python",
   "pygments_lexer": "ipython3",
   "version": "3.9.7"
  },
  "orig_nbformat": 4
 },
 "nbformat": 4,
 "nbformat_minor": 2
}
