{
 "cells": [
  {
   "cell_type": "code",
   "execution_count": null,
   "metadata": {},
   "outputs": [],
   "source": [
    "import yaml\n",
    "from pathlib import Path\n",
    "from torch.utils.data import DataLoader\n",
    "from asteroid.data import MUSDB18Dataset\n",
    "\n",
    "#####################\n",
    "##### ARGS ##########\n",
    "#####################\n",
    "DATA_DIR = Path(\"musdb_data\")\n",
    "with open(\"cfg.yaml\", \"r\") as f:\n",
    "    CFG = yaml.load(f, Loader=yaml.FullLoader)\n",
    "    \n",
    "SEGMENT_SIZE = CFG[\"segment_size\"]\n",
    "RANDOM_TRACK_MIX = CFG[\"random_track_mix\"]\n",
    "TARGETS = CFG[\"targets\"]\n",
    "N_SRC = len(TARGETS)\n",
    "\n",
    "#####################\n",
    "##### HYPER-PARAMETERS\n",
    "#####################\n",
    "SAMPLE_RATE = CFG[\"sample_rate\"]\n",
    "SIZE = None if CFG[\"size\"] == -1 else CFG[\"size\"]\n",
    "LR = CFG[\"learning_rate\"]\n",
    "N_EPOCHS = CFG[\"n_epochs\"]\n",
    "BATCH_SIZE = CFG[\"batch_size\"]\n",
    "\n",
    "N_BLOCKS = CFG[\"n_blocks\"]\n",
    "N_REPEATS = CFG[\"n_repeats\"]\n",
    "BN_CHAN = CFG[\"bn_chan\"]\n",
    "HID_CHAN = CFG[\"hid_chan\"]\n",
    "SKIP_CHAN = CFG[\"skip_chan\"]\n",
    "CONV_KERNEL_SIZE = CFG[\"conv_kernel_size\"]\n",
    "KERNEL_SIZE = CFG[\"kernel_size\"]\n",
    "N_FILTERS = CFG[\"n_filters\"]\n",
    "STRIDE = CFG[\"stride\"]\n",
    "\n",
    "################\n",
    "##### DATA #####\n",
    "################\n",
    "train_dataset = MUSDB18Dataset(\n",
    "    root=DATA_DIR.__str__(),\n",
    "    targets=TARGETS,\n",
    "    suffix=\".mp4\",\n",
    "    split=\"train\",\n",
    "    subset=None,\n",
    "    segment=SEGMENT_SIZE,\n",
    "    samples_per_track=1,\n",
    "    random_segments=True,\n",
    "    random_track_mix=RANDOM_TRACK_MIX,\n",
    "    sample_rate=SAMPLE_RATE,\n",
    "    size=SIZE\n",
    ")\n",
    "train_loader = DataLoader(train_dataset, batch_size=1)\n",
    "print(\">>> Training Dataloader ready\")\n",
    "\n",
    "test_dataset = MUSDB18Dataset(\n",
    "    root=DATA_DIR.__str__(),\n",
    "    targets=TARGETS,\n",
    "    suffix=\".mp4\",\n",
    "    split=\"test\",\n",
    "    subset=None,\n",
    "    segment=SEGMENT_SIZE,\n",
    "    samples_per_track=1,\n",
    "    random_segments=True,\n",
    "    random_track_mix=RANDOM_TRACK_MIX,\n",
    "    sample_rate=SAMPLE_RATE,\n",
    "    size=SIZE\n",
    ")\n",
    "test_loader = DataLoader(test_dataset, batch_size=1)"
   ]
  },
  {
   "cell_type": "code",
   "execution_count": null,
   "metadata": {},
   "outputs": [],
   "source": [
    "list_mixes = []\n",
    "list_sources = []"
   ]
  },
  {
   "cell_type": "code",
   "execution_count": null,
   "metadata": {},
   "outputs": [],
   "source": [
    "for mix, sources in train_loader:\n",
    "    list_mixes.append(mix)\n",
    "    list_sources.append(sources)"
   ]
  },
  {
   "cell_type": "code",
   "execution_count": null,
   "metadata": {},
   "outputs": [],
   "source": [
    "mix.shape"
   ]
  },
  {
   "cell_type": "code",
   "execution_count": null,
   "metadata": {},
   "outputs": [],
   "source": [
    "sources.shape"
   ]
  },
  {
   "cell_type": "code",
   "execution_count": null,
   "metadata": {},
   "outputs": [],
   "source": [
    "from scipy.io import wavfile\n",
    "for j, (mix, sources) in enumerate(zip(list_mixes, list_sources)):\n",
    "    f = Path(f\"./SON_{j}\")\n",
    "    f.mkdir()\n",
    "    wavfile.write(str(f/\"mix.wav\"), SAMPLE_RATE, mix.detach().numpy())\n",
    "    for i, s in enumerate(sources):\n",
    "        path = str(f/f\"{i}.wav\")\n",
    "        wavfile.write(path, SAMPLE_RATE, s.detach().numpy())"
   ]
  }
 ],
 "metadata": {
  "interpreter": {
   "hash": "8ee98f8cc5c61c7bb85862890f9fa26c929bedb663baf44f10e1854389fd85ca"
  },
  "kernelspec": {
   "display_name": "Python 3.9.7",
   "language": "python",
   "name": "python3"
  },
  "language_info": {
   "codemirror_mode": {
    "name": "ipython",
    "version": 3
   },
   "file_extension": ".py",
   "mimetype": "text/x-python",
   "name": "python",
   "nbconvert_exporter": "python",
   "pygments_lexer": "ipython3",
   "version": "3.9.7"
  },
  "orig_nbformat": 4
 },
 "nbformat": 4,
 "nbformat_minor": 2
}
