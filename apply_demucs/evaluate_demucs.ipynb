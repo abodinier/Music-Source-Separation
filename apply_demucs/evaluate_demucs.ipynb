{
 "cells": [
  {
   "cell_type": "code",
   "execution_count": 3,
   "metadata": {},
   "outputs": [],
   "source": [
    "import sys\n",
    "import torch\n",
    "import demucs\n",
    "import museval\n",
    "import librosa\n",
    "import subprocess\n",
    "import numpy as np\n",
    "import pandas as pd\n",
    "from pathlib import Path\n",
    "from scipy.io import wavfile\n",
    "from torch.utils.data import DataLoader\n",
    "\n",
    "sys.path.append(\"../\")\n",
    "from asteroid.data import MUSDB18Dataset"
   ]
  },
  {
   "cell_type": "code",
   "execution_count": 4,
   "metadata": {},
   "outputs": [],
   "source": [
    "DATA_DIR = Path(\"../../../data/musdb18\")\n",
    "\n",
    "TEST_AUDIO_DIR = Path(\"./audio_files\")\n",
    "SEPARATED_DIR = Path(\"./separated\")\n",
    "\n",
    "SEGMENT_SIZE = 1\n",
    "RANDOM_TRACK_MIX = False\n",
    "TARGETS = [\"drums\", \"bass\", \"other\", \"vocals\"]\n",
    "N_SRC = len(TARGETS)\n",
    "SAMPLE_RATE = 22050\n",
    "SIZE = -1\n",
    "TRAIN_BATCH_SIZE = 4\n",
    "TEST_BATCH_SIZE = 4\n",
    "NUM_WORKERS = 0\n",
    "DEVICE = \"cpu\""
   ]
  },
  {
   "cell_type": "code",
   "execution_count": null,
   "metadata": {},
   "outputs": [],
   "source": [
    "RESULT_DIR = Path(\"./results\")\n",
    "TMP_DIR = Path(\"./tmp\")\n",
    "INPUT_DIR = TMP_DIR/\"input\"\n",
    "OUTPUT_DIR = TMP_DIR/\"output\"\n",
    "\n",
    "RESULT_DIR.mkdir(parents=True, exist_ok=True)\n",
    "INPUT_DIR.mkdir(parents=True, exist_ok=True)\n",
    "OUTPUT_DIR.mkdir(parents=True, exist_ok=True)\n",
    "\n",
    "test_dataset = MUSDB18Dataset(\n",
    "        root=DATA_DIR.__str__(),\n",
    "        targets=TARGETS,\n",
    "        suffix=\".mp4\",\n",
    "        split=\"test\",\n",
    "        subset=None,\n",
    "        segment=4,\n",
    "        samples_per_track=1,\n",
    "        random_segments=True,\n",
    "        random_track_mix=RANDOM_TRACK_MIX,\n",
    "        sample_rate=SAMPLE_RATE,\n",
    "        size=SIZE\n",
    "    )\n",
    "test_loader = DataLoader(test_dataset, batch_size=1, num_workers=0)\n",
    "\n",
    "df_sdr = pd.DataFrame(data=[], columns=TARGETS)\n",
    "df_isr = pd.DataFrame(data=[], columns=TARGETS)\n",
    "df_sir = pd.DataFrame(data=[], columns=TARGETS)\n",
    "df_sar = pd.DataFrame(data=[], columns=TARGETS)\n",
    "\n",
    "for i, (x, y) in enumerate(test_loader):\n",
    "    mix_p = INPUT_DIR/f\"mix.wav\"\n",
    "    \n",
    "    wavfile.write(str(mix_p), SAMPLE_RATE, x.view(-1).detach().numpy())\n",
    "    \n",
    "    command = f\"python3 -m demucs.separate -o {str(OUTPUT_DIR)} -n mdx_extra '{str(mix_p.resolve())}'\"\n",
    "    try:\n",
    "        subprocess.check_call(command, shell=True)\n",
    "    except subprocess.CalledProcessError as e:\n",
    "        print(f\"command {e.cmd} exited with error code {e.returncode}.\")\n",
    "    \n",
    "    \n",
    "    pred = []\n",
    "    for f in OUTPUT_DIR.rglob(\"*.wav\"):\n",
    "        s, _ = librosa.load(str(f), sr=SAMPLE_RATE, mono=True)\n",
    "        pred.append(s)\n",
    "    pred = np.array(pred)\n",
    "    \n",
    "    try:\n",
    "        SDR, ISR, SIR, SAR, _ = museval.metrics.bss_eval(\n",
    "                y[0],\n",
    "                pred,\n",
    "                compute_permutation=True,\n",
    "                window=1*SAMPLE_RATE,\n",
    "                hop=1*SAMPLE_RATE,\n",
    "                framewise_filters=False,\n",
    "                bsseval_sources_version=False\n",
    "        )\n",
    "        \n",
    "        df_sdr = pd.concat([df_sdr, pd.DataFrame(data=[SDR.mean(axis=0).tolist()], columns=TARGETS)])\n",
    "        df_isr = pd.concat([df_sdr, pd.DataFrame(data=[ISR.mean(axis=0).tolist()], columns=TARGETS)])\n",
    "        df_sir = pd.concat([df_sdr, pd.DataFrame(data=[SIR.mean(axis=0).tolist()], columns=TARGETS)])\n",
    "        df_sar = pd.concat([df_sdr, pd.DataFrame(data=[SAR.mean(axis=0).tolist()], columns=TARGETS)])\n",
    "            \n",
    "        print(SDR.mean(), ISR.mean(), SIR.mean(), SAR.mean())\n",
    "    except:\n",
    "        pass\n",
    "\n",
    "\n",
    "df_sdr.to_csv(str(RESULT_DIR/f\"df_sdr.csv\"))\n",
    "df_isr.to_csv(str(RESULT_DIR/f\"df_isr.csv\"))\n",
    "df_sar.to_csv(str(RESULT_DIR/f\"df_sar.csv\"))\n",
    "df_sir.to_csv(str(RESULT_DIR/f\"df_sir.csv\"))\n",
    "\n",
    "res = []\n",
    "for metric in ('sdr', 'isr', 'sar', 'sir'):\n",
    "    df = eval(f\"df_{metric}\")\n",
    "    r = [metric, *df.mean().values.tolist()]\n",
    "    res.append(r)\n",
    "\n",
    "df_results = pd.DataFrame(data=res, columns=[\"Metric\", *TARGETS])\n",
    "df_results.to_csv(str(RESULT_DIR/f\"results.csv\"))"
   ]
  },
  {
   "cell_type": "code",
   "execution_count": 11,
   "metadata": {},
   "outputs": [],
   "source": [
    "df_sdr = pd.read_csv(\"results/df_sdr.csv\", index_col=0)"
   ]
  },
  {
   "cell_type": "code",
   "execution_count": 12,
   "metadata": {},
   "outputs": [
    {
     "data": {
      "text/plain": [
       "drums     7.264383\n",
       "bass      7.835729\n",
       "other     7.389458\n",
       "vocals    7.290056\n",
       "dtype: float64"
      ]
     },
     "execution_count": 12,
     "metadata": {},
     "output_type": "execute_result"
    }
   ],
   "source": [
    "df_sdr.mean()"
   ]
  }
 ],
 "metadata": {
  "interpreter": {
   "hash": "8ee98f8cc5c61c7bb85862890f9fa26c929bedb663baf44f10e1854389fd85ca"
  },
  "kernelspec": {
   "display_name": "Python 3.9.7",
   "language": "python",
   "name": "python3"
  },
  "language_info": {
   "codemirror_mode": {
    "name": "ipython",
    "version": 3
   },
   "file_extension": ".py",
   "mimetype": "text/x-python",
   "name": "python",
   "nbconvert_exporter": "python",
   "pygments_lexer": "ipython3",
   "version": "3.9.7"
  },
  "orig_nbformat": 4
 },
 "nbformat": 4,
 "nbformat_minor": 2
}
