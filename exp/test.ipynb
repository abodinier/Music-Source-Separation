{
 "cells": [
  {
   "cell_type": "code",
   "execution_count": 79,
   "metadata": {},
   "outputs": [
    {
     "name": "stdout",
     "output_type": "stream",
     "text": [
      "The autoreload extension is already loaded. To reload it, use:\n",
      "  %reload_ext autoreload\n"
     ]
    }
   ],
   "source": [
    "import sys\n",
    "from pathlib import Path\n",
    "from IPython.display import display, Audio\n",
    "\n",
    "import torch\n",
    "from torch import optim\n",
    "from pytorch_lightning import Trainer\n",
    "\n",
    "import stempeg\n",
    "import librosa\n",
    "from scipy.io.wavfile import write\n",
    "\n",
    "%load_ext autoreload"
   ]
  },
  {
   "cell_type": "code",
   "execution_count": null,
   "metadata": {},
   "outputs": [],
   "source": [
    "sys.path.append(\"../../\")\n",
    "import asteroid_filterbanks\n",
    "import asteroid"
   ]
  },
  {
   "cell_type": "code",
   "execution_count": null,
   "metadata": {},
   "outputs": [],
   "source": [
    "from asteroid.asteroid.models import ConvTasNet\n",
    "from asteroid.asteroid.losses import pairwise_neg_sisdr, PITLossWrapper\n",
    "\n",
    "from asteroid.asteroid.data import MUSDB18Dataset\n",
    "\n",
    "from asteroid.asteroid.engine import System"
   ]
  },
  {
   "cell_type": "code",
   "execution_count": 77,
   "metadata": {},
   "outputs": [],
   "source": [
    "DATA_DIR = Path(\"../../data\")\n",
    "SAMPLE_RATE = 44100"
   ]
  },
  {
   "cell_type": "code",
   "execution_count": 83,
   "metadata": {},
   "outputs": [],
   "source": [
    "EX_FILE = str(list((DATA_DIR/\"train\").glob(\"*.mp4\"))[0])"
   ]
  },
  {
   "cell_type": "code",
   "execution_count": 86,
   "metadata": {},
   "outputs": [],
   "source": [
    "tracks, sr = stempeg.read_stems(EX_FILE)"
   ]
  },
  {
   "cell_type": "code",
   "execution_count": 91,
   "metadata": {},
   "outputs": [],
   "source": [
    "len(tracks)\n",
    "for i in range(len(tracks)):\n",
    "    name = f\"/Users/Alexandre/Desktop/{i}.wav\"\n",
    "    stempeg.write_audio(name, tracks[i], sr)"
   ]
  },
  {
   "cell_type": "code",
   "execution_count": 74,
   "metadata": {},
   "outputs": [
    {
     "data": {
      "text/plain": [
       "171.24"
      ]
     },
     "execution_count": 74,
     "metadata": {},
     "output_type": "execute_result"
    }
   ],
   "source": [
    "stempeg.Info(EX_FILE).duration(1)"
   ]
  },
  {
   "cell_type": "code",
   "execution_count": 138,
   "metadata": {},
   "outputs": [
    {
     "name": "stderr",
     "output_type": "stream",
     "text": [
      "3it [00:00, 25.41it/s]\n",
      "3it [00:00, 40.35it/s]\n"
     ]
    }
   ],
   "source": [
    "%autoreload 2\n",
    "\n",
    "train_loader = MUSDB18Dataset(\n",
    "    root=str(DATA_DIR),\n",
    "    targets=[\"vocals\", \"bass\", \"drums\", \"other\"],\n",
    "    suffix=\".mp4\",\n",
    "    split=\"train\",\n",
    "    subset=None,\n",
    "    segment=3,\n",
    "    samples_per_track=1,\n",
    "    random_segments=True,\n",
    "    random_track_mix=False,\n",
    "    sample_rate=SAMPLE_RATE\n",
    ")\n",
    "\n",
    "val_loader = MUSDB18Dataset(\n",
    "    root=str(DATA_DIR),\n",
    "    targets=[\"vocals\", \"bass\", \"drums\", \"other\"],\n",
    "    suffix=\".mp4\",\n",
    "    split=\"test\",\n",
    "    subset=None,\n",
    "    segment=3,\n",
    "    samples_per_track=1,\n",
    "    random_segments=True,\n",
    "    random_track_mix=False,\n",
    "    sample_rate=SAMPLE_RATE\n",
    ")"
   ]
  },
  {
   "cell_type": "code",
   "execution_count": 139,
   "metadata": {},
   "outputs": [],
   "source": [
    "model = ConvTasNet(n_src=4, sample_rate=SAMPLE_RATE)\n",
    "\n",
    "loss = PITLossWrapper(pairwise_neg_sisdr, pit_from=\"pw_mtx\")\n",
    "\n",
    "optimizer = optim.Adam(model.parameters(), lr=1e-3)"
   ]
  },
  {
   "cell_type": "code",
   "execution_count": 154,
   "metadata": {},
   "outputs": [],
   "source": [
    "def train(model, dataset, criterion, optim, epochs):\n",
    "    for epoch in range(epochs):\n",
    "        epoch_loss = 0\n",
    "        for train_batch in dataset:\n",
    "            optim.zero_grad()\n",
    "\n",
    "            x, y = train_batch\n",
    "            if len(x.size()) == 1 and len(y.size()) == 2:\n",
    "                batch_size = 1\n",
    "                x = x[None, :]\n",
    "                y = y[None, :]\n",
    "                \n",
    "            n_batch, n_sources, n_samples = y.size()\n",
    "            y = y.reshape(n_batch, n_sources, n_samples)\n",
    "            \n",
    "            output = model(x)\n",
    "\n",
    "            loss = criterion(output, y)\n",
    "            epoch_loss += loss.item()\n",
    "\n",
    "            loss.backward()\n",
    "            optimizer.step()\n",
    "        print(f\"Epoch {epoch} - Loss: {epoch_loss}\")"
   ]
  },
  {
   "cell_type": "code",
   "execution_count": 155,
   "metadata": {},
   "outputs": [],
   "source": [
    "train(model, train_loader, loss, optimizer, 1)"
   ]
  },
  {
   "cell_type": "code",
   "execution_count": null,
   "metadata": {},
   "outputs": [],
   "source": [
    "path = \"/content/drive/MyDrive/IA321/data/musdb18/prep/test/AM Contra - Heart Peripheral/mixture.wav\"\n",
    "original = librosa.load(path, sr=SAMPLE_RATE)\n",
    "output = model.separate(path)"
   ]
  }
 ],
 "metadata": {
  "interpreter": {
   "hash": "8ee98f8cc5c61c7bb85862890f9fa26c929bedb663baf44f10e1854389fd85ca"
  },
  "kernelspec": {
   "display_name": "Python 3.9.7 64-bit (conda)",
   "language": "python",
   "name": "python3"
  },
  "language_info": {
   "codemirror_mode": {
    "name": "ipython",
    "version": 3
   },
   "file_extension": ".py",
   "mimetype": "text/x-python",
   "name": "python",
   "nbconvert_exporter": "python",
   "pygments_lexer": "ipython3",
   "version": "3.9.7"
  },
  "orig_nbformat": 4
 },
 "nbformat": 4,
 "nbformat_minor": 2
}
